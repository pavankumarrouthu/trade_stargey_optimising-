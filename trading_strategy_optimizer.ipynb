{
 "cells": [
  {
   "cell_type": "markdown",
   "id": "4d6d5b7c",
   "metadata": {},
   "source": [
    "# 📈 Trading Strategy Optimizer\n",
    "This notebook implements a simple SMA crossover strategy on mock stock data."
   ]
  },
  {
   "cell_type": "code",
   "execution_count": null,
   "id": "c39d8135",
   "metadata": {},
   "outputs": [],
   "source": [
    "import pandas as pd\n",
    "import numpy as np\n",
    "import matplotlib.pyplot as plt"
   ]
  },
  {
   "cell_type": "markdown",
   "id": "38bba8e6",
   "metadata": {},
   "source": [
    "## Step 1: Generate Mock Stock Data"
   ]
  },
  {
   "cell_type": "code",
   "execution_count": null,
   "id": "1721cc92",
   "metadata": {},
   "outputs": [],
   "source": [
    "np.random.seed(42)\n",
    "dates = pd.date_range(start=\"2020-01-01\", end=\"2023-01-01\", freq=\"B\")\n",
    "prices = np.cumsum(np.random.randn(len(dates))) + 100\n",
    "data = pd.DataFrame(index=dates)\n",
    "data['Close'] = prices\n",
    "data.head()"
   ]
  },
  {
   "cell_type": "markdown",
   "id": "06f9fe8d",
   "metadata": {},
   "source": [
    "## Step 2: Calculate SMA Indicators"
   ]
  },
  {
   "cell_type": "code",
   "execution_count": null,
   "id": "bba718b8",
   "metadata": {},
   "outputs": [],
   "source": [
    "data['SMA_20'] = data['Close'].rolling(window=20).mean()\n",
    "data['SMA_50'] = data['Close'].rolling(window=50).mean()\n",
    "data[['Close', 'SMA_20', 'SMA_50']].dropna().head()"
   ]
  },
  {
   "cell_type": "markdown",
   "id": "c2283e8c",
   "metadata": {},
   "source": [
    "## Step 3: Generate Buy/Sell Signals"
   ]
  },
  {
   "cell_type": "code",
   "execution_count": null,
   "id": "ea975a83",
   "metadata": {},
   "outputs": [],
   "source": [
    "data['Signal'] = 0\n",
    "data.loc[data.index[20:], 'Signal'] = np.where(data['SMA_20'][20:] > data['SMA_50'][20:], 1, 0)\n",
    "data['Position'] = data['Signal'].diff()\n",
    "data[['Signal', 'Position']].tail()"
   ]
  },
  {
   "cell_type": "markdown",
   "id": "0e446845",
   "metadata": {},
   "source": [
    "## Step 4: Plot Strategy with Buy/Sell Points"
   ]
  },
  {
   "cell_type": "code",
   "execution_count": null,
   "id": "0104f28b",
   "metadata": {},
   "outputs": [],
   "source": [
    "plt.figure(figsize=(14, 7))\n",
    "plt.plot(data['Close'], label='Close Price', alpha=0.5)\n",
    "plt.plot(data['SMA_20'], label='SMA 20', linestyle='--')\n",
    "plt.plot(data['SMA_50'], label='SMA 50', linestyle='--')\n",
    "plt.plot(data[data['Position'] == 1].index, data['SMA_20'][data['Position'] == 1], '^', markersize=12, color='g', label='Buy Signal')\n",
    "plt.plot(data[data['Position'] == -1].index, data['SMA_20'][data['Position'] == -1], 'v', markersize=12, color='r', label='Sell Signal')\n",
    "plt.title(\"Mock Stock - SMA Crossover Strategy\")\n",
    "plt.xlabel(\"Date\")\n",
    "plt.ylabel(\"Price\")\n",
    "plt.legend()\n",
    "plt.grid()\n",
    "plt.tight_layout()\n",
    "plt.show()"
   ]
  },
  {
   "cell_type": "markdown",
   "id": "ee0cd72e",
   "metadata": {},
   "source": [
    "## Save Data to CSV (Optional)"
   ]
  },
  {
   "cell_type": "code",
   "execution_count": null,
   "id": "a00f94a1",
   "metadata": {},
   "outputs": [],
   "source": [
    "data.to_csv(\"sample_stock_data.csv\")"
   ]
  }
 ],
 "metadata": {},
 "nbformat": 4,
 "nbformat_minor": 5
}
